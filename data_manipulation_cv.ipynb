{
 "cells": [
  {
   "cell_type": "markdown",
   "metadata": {
    "colab_type": "text",
    "id": "2lJUvoxWGxXF"
   },
   "source": [
    "#Load libraries"
   ]
  },
  {
   "cell_type": "code",
   "execution_count": 1,
   "metadata": {
    "colab": {},
    "colab_type": "code",
    "collapsed": true,
    "id": "XhgWnR5bGrwf"
   },
   "outputs": [],
   "source": [
    "import pickle\n",
    "import numpy as np\n",
    "import pandas as pd"
   ]
  },
  {
   "cell_type": "markdown",
   "metadata": {
    "colab_type": "text",
    "id": "KfVOULdAG8k2"
   },
   "source": [
    "#Load  Dataset"
   ]
  },
  {
   "cell_type": "code",
   "execution_count": 2,
   "metadata": {
    "colab": {
     "base_uri": "https://localhost:8080/",
     "height": 71
    },
    "colab_type": "code",
    "id": "bDd_mbToG6Nv",
    "outputId": "6de44d60-3da3-48ee-8fcf-4edfbe5366e7"
   },
   "outputs": [
    {
     "name": "stderr",
     "output_type": "stream",
     "text": [
      "F:\\anaconda\\lib\\site-packages\\IPython\\core\\interactiveshell.py:2717: DtypeWarning: Columns (18,38) have mixed types. Specify dtype option on import or set low_memory=False.\n",
      "  interactivity=interactivity, compiler=compiler, result=result)\n"
     ]
    }
   ],
   "source": [
    "# path of the csv file ignor the waring below\n",
    "file1 = 'MLB_2010-2018.csv'\n",
    "data = pd.read_csv(file1, delimiter = \",\", index_col=0)"
   ]
  },
  {
   "cell_type": "code",
   "execution_count": 16,
   "metadata": {
    "colab": {},
    "colab_type": "code",
    "collapsed": true,
    "id": "nxn7BjtbiWw0"
   },
   "outputs": [],
   "source": [
    "# faveWinsFirst5_new is define the news name of columns\n",
    "faveWinsFirst5_new = []\n",
    "for i in range(0, len(data)):\n",
    "    #here select the name of v columss\n",
    "    v_sum = data['v1'].iloc[i]+data['v2'].iloc[i]+data['v3'].iloc[i]+data['v4'].iloc[i]+data['v5'].iloc[i]\n",
    "    #here select the name of h columns\n",
    "    h_sum = data['h1'].iloc[i]+data['h2'].iloc[i]+data['h3'].iloc[i]+data['h4'].iloc[i]+data['h5'].iloc[i]\n",
    "    if v_sum<h_sum:\n",
    "        #adding the 1 in the columns if the above condition is true\n",
    "        faveWinsFirst5_new.append('1')\n",
    "    elif v_sum>h_sum:\n",
    "        #adding the 0 in the columns if the above condition is true\n",
    "        faveWinsFirst5_new.append('0')"
   ]
  },
  {
   "cell_type": "code",
   "execution_count": 14,
   "metadata": {
    "colab": {},
    "colab_type": "code",
    "collapsed": true,
    "id": "aDnbWuwfIpVx"
   },
   "outputs": [],
   "source": [
    "#here adding the new coulumn in the file\n",
    "data['faveWinsFirst5_new'] = pd.Series(faveWinsFirst5_new)"
   ]
  },
  {
   "cell_type": "code",
   "execution_count": 6,
   "metadata": {
    "colab": {},
    "colab_type": "code",
    "collapsed": true,
    "id": "CsBbREwohtDi"
   },
   "outputs": [],
   "source": [
    "#now spliting the file on the basis of homeIsFave is 0 or 1\n",
    "#homefave for homefave file\n",
    "homefave = pd.DataFrame()\n",
    "#awayfave for awayfave file\n",
    "awayfave = pd.DataFrame()\n",
    "for i in range(0, len(data)):\n",
    "    #selecting the first row from the file\n",
    "    d1 = pd.DataFrame(data.iloc[i])\n",
    "    d1 = d1.T\n",
    "    d1.reset_index(drop=True, inplace=True)\n",
    "    #here checking the conditon if homeIsFave is 1 then add it to the homefave file\n",
    "    if data['homeIsFave'].iloc[i]==1:\n",
    "        homefave = homefave.append(d1)\n",
    "    #here checking the conditon if homeIsFave is 0 then add it to the awayfave file\n",
    "    elif data['homeIsFave'].iloc[i]==0:\n",
    "        awayfave = awayfave.append(d1)"
   ]
  },
  {
   "cell_type": "code",
   "execution_count": 8,
   "metadata": {
    "colab": {},
    "colab_type": "code",
    "id": "8RbfNsuKuUrS"
   },
   "outputs": [],
   "source": [
    "#select the homefave file and split on the basis of hclose and hopen\n",
    "homefave_moves_in_favor = pd.DataFrame()\n",
    "homefave_moves_against = pd.DataFrame()\n",
    "homefave_no_movement = pd.DataFrame()\n",
    "for i in range(0, len(homefave)):\n",
    "  d1 = pd.DataFrame(homefave.iloc[i])\n",
    "  d1 = d1.T\n",
    "  d1.reset_index(drop=True, inplace=True)\n",
    "  if homefave['hClose'].iloc[i]<homefave['hOpen'].iloc[i]:\n",
    "    homefave_moves_in_favor = homefave_moves_in_favor.append(d1)\n",
    "  elif homefave['hClose'].iloc[i]>homefave['hOpen'].iloc[i]:\n",
    "    homefave_moves_against = homefave_moves_against.append(d1)\n",
    "  elif homefave['hClose'].iloc[i]==homefave['hOpen'].iloc[i]:\n",
    "    homefave_no_movement = homefave_no_movement.append(d1)"
   ]
  },
  {
   "cell_type": "code",
   "execution_count": 9,
   "metadata": {
    "colab": {},
    "colab_type": "code",
    "collapsed": true,
    "id": "ZE-YDTNrvaZ0"
   },
   "outputs": [],
   "source": [
    "#select the awayfave file and split on the basis of vclose and vopen\n",
    "awayfave_moves_in_favor = pd.DataFrame()\n",
    "awayfave_moves_against = pd.DataFrame()\n",
    "awayfave_no_movement = pd.DataFrame()\n",
    "for i in range(0, len(awayfave)):\n",
    "  d1 = pd.DataFrame(awayfave.iloc[i])\n",
    "  d1 = d1.T\n",
    "  d1.reset_index(drop=True, inplace=True)\n",
    "  if awayfave['vClose'].iloc[i]<awayfave['vOpen'].iloc[i]:\n",
    "    awayfave_moves_in_favor = awayfave_moves_in_favor.append(d1)\n",
    "  elif awayfave['vClose'].iloc[i]>awayfave['vOpen'].iloc[i]:\n",
    "    awayfave_moves_against = awayfave_moves_against.append(d1)\n",
    "  elif awayfave['vClose'].iloc[i]==awayfave['vOpen'].iloc[i]:\n",
    "    awayfave_no_movement = awayfave_no_movement.append(d1)"
   ]
  },
  {
   "cell_type": "code",
   "execution_count": 12,
   "metadata": {
    "colab": {},
    "colab_type": "code",
    "id": "s0Ab-OxmKx3-"
   },
   "outputs": [],
   "source": [
    "# here writing all the file which are created above.\n",
    "import os\n",
    "save_path = \"results\"\n",
    "complete_data = pd.DataFrame() \n",
    "if not os.path.exists(\"results\"):\n",
    "    os.makedirs(save_path)\n",
    "data.to_csv(os.path.join(save_path, 'main.csv'), sep=',', index=False)\n",
    "\n",
    "homefave.to_csv(os.path.join(save_path, 'homefave.csv'), sep=',', index=False)\n",
    "awayfave.to_csv(os.path.join(save_path, 'awayfave.csv'), sep=',', index=False)\n",
    "\n",
    "homefave_moves_in_favor.to_csv(os.path.join(save_path, 'homefave_moves_in_favor.csv'), sep=',', index=False)\n",
    "homefave_moves_against.to_csv(os.path.join(save_path, 'homefave_moves_against.csv'), sep=',', index=False)\n",
    "homefave_no_movement.to_csv(os.path.join(save_path, 'homefave_no_movement.csv'), sep=',', index=False)\n",
    "\n",
    "awayfave_moves_in_favor.to_csv(os.path.join(save_path, 'awayfave_moves_in_favor.csv'), sep=',', index=False)\n",
    "awayfave_moves_against.to_csv(os.path.join(save_path, 'awayfave_moves_against.csv'), sep=',', index=False)\n",
    "awayfave_no_movement.to_csv(os.path.join(save_path, 'awayfave_no_movement.csv'), sep=',', index=False)"
   ]
  },
  {
   "cell_type": "code",
   "execution_count": null,
   "metadata": {
    "collapsed": true
   },
   "outputs": [],
   "source": []
  }
 ],
 "metadata": {
  "colab": {
   "collapsed_sections": [],
   "name": "data_manipulation_cv.ipynb",
   "provenance": [],
   "version": "0.3.2"
  },
  "kernelspec": {
   "display_name": "Python 3",
   "language": "python",
   "name": "python3"
  },
  "language_info": {
   "codemirror_mode": {
    "name": "ipython",
    "version": 3
   },
   "file_extension": ".py",
   "mimetype": "text/x-python",
   "name": "python",
   "nbconvert_exporter": "python",
   "pygments_lexer": "ipython3",
   "version": "3.6.6"
  }
 },
 "nbformat": 4,
 "nbformat_minor": 1
}
